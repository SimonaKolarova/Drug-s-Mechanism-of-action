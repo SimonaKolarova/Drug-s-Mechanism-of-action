{
 "metadata": {
  "language_info": {
   "codemirror_mode": {
    "name": "ipython",
    "version": 3
   },
   "file_extension": ".py",
   "mimetype": "text/x-python",
   "name": "python",
   "nbconvert_exporter": "python",
   "pygments_lexer": "ipython3",
   "version": "3.7.4-final"
  },
  "orig_nbformat": 2,
  "kernelspec": {
   "name": "python3",
   "display_name": "Python 3.7.4 64-bit ('base': conda)",
   "metadata": {
    "interpreter": {
     "hash": "ee3ad45ae4d92bbfb9104b55ca84500b3bfee7d79ee1498f75e73d063ba16abd"
    }
   }
  }
 },
 "nbformat": 4,
 "nbformat_minor": 2,
 "cells": [
  {
   "source": [
    "# Principal component analysis"
   ],
   "cell_type": "markdown",
   "metadata": {}
  },
  {
   "source": [
    "## Libraries"
   ],
   "cell_type": "markdown",
   "metadata": {}
  },
  {
   "cell_type": "code",
   "execution_count": 2,
   "metadata": {},
   "outputs": [],
   "source": [
    "import numpy as np\n",
    "import pandas as pd\n",
    "    \n",
    "from sklearn.decomposition import PCA\n",
    "from sklearn import preprocessing\n",
    "\n",
    "import plotly.express as px\n",
    "import plotly.graph_objects as go"
   ]
  },
  {
   "source": [
    "## Dataset"
   ],
   "cell_type": "markdown",
   "metadata": {}
  },
  {
   "cell_type": "code",
   "execution_count": 3,
   "metadata": {},
   "outputs": [],
   "source": [
    "train_features = pd.read_csv(\"Data/train_features.csv\")\n",
    "test_features = pd.read_csv(\"Data/test_features.csv\")\n",
    "train_targets = pd.read_csv(\"Data/train_targets_scored.csv\")"
   ]
  },
  {
   "cell_type": "code",
   "execution_count": 4,
   "metadata": {},
   "outputs": [],
   "source": [
    "# Separate data for PCA (Gene expression (ge) and cell viability (cv) data)\n",
    "train_ge = train_features.iloc[:,4:776]\n",
    "train_cv = train_features.iloc[:,776:876]\n",
    "test_ge = test_features.iloc[:,4:776] \n",
    "test_cv = test_features.iloc[:,776:876] "
   ]
  },
  {
   "source": [
    "# Add sum of MoA column to train_targets\n",
    "train_targets['moa_sum'] = \"0\"\n",
    "\n",
    "for i in range(len(train_targets)):\n",
    "    moa_sum = train_targets.iloc[i,1:207].sum()\n",
    "    if moa_sum == 1:\n",
    "        train_targets[\"moa_sum\"][i] = \"1\"\n",
    "    if moa_sum > 1:\n",
    "        train_targets[\"moa_sum\"][i] = \"> 2\""
   ],
   "cell_type": "code",
   "metadata": {},
   "execution_count": 5,
   "outputs": [
    {
     "output_type": "stream",
     "name": "stderr",
     "text": [
      "ipykernel_launcher:7: SettingWithCopyWarning: \nA value is trying to be set on a copy of a slice from a DataFrame\n\nSee the caveats in the documentation: https://pandas.pydata.org/pandas-docs/stable/user_guide/indexing.html#returning-a-view-versus-a-copy\nipykernel_launcher:9: SettingWithCopyWarning: \nA value is trying to be set on a copy of a slice from a DataFrame\n\nSee the caveats in the documentation: https://pandas.pydata.org/pandas-docs/stable/user_guide/indexing.html#returning-a-view-versus-a-copy\n"
     ]
    }
   ]
  },
  {
   "source": [
    "## PCA for gene expressions"
   ],
   "cell_type": "markdown",
   "metadata": {}
  },
  {
   "cell_type": "code",
   "execution_count": 6,
   "metadata": {},
   "outputs": [],
   "source": [
    "# Calculate principal components\n",
    "pca_ge = PCA()\n",
    "pca_ge.fit(train_ge)\n",
    "pca_ge_data = pca_ge.transform(train_ge)\n",
    "\n",
    "# Determine the percentage of variance explained by each PC\n",
    "pca_ge_var = np.round(pca_ge.explained_variance_ratio_*100, decimals = 1)"
   ]
  },
  {
   "cell_type": "code",
   "execution_count": 14,
   "metadata": {},
   "outputs": [],
   "source": [
    "# Plot supporting variables\n",
    "labels_ge = ['PC' + str(x) for x in range (1, len(pca_ge_var) +1)]\n",
    "pca_ge_cumul = pca_ge_var.cumsum()\n",
    "pca_ge_sum = [sum(pca_ge_var)]* len(pca_ge_var)\n",
    "upper_range = 301\n",
    "\n",
    "# Create figure\n",
    "fig = go.Figure()\n",
    "\n",
    "# Scree plot (bar trace)\n",
    "fig.add_trace(\n",
    "    go.Bar(\n",
    "        x = labels_ge[:upper_range], \n",
    "        y = pca_ge_var[:upper_range], \n",
    "        name = \"Variation explained by each PC\"))\n",
    "\n",
    "# Cumulative plot (Line trace)\n",
    "fig.add_trace(\n",
    "    go.Scatter(\n",
    "        x = labels_ge[:upper_range], \n",
    "        y = pca_ge_cumul[:upper_range], \n",
    "        mode='lines', \n",
    "        name = \"Variation explained by sum of all preceeding PC\"))\n",
    "\n",
    "# Maximum plot (Line trace of maximum explained variation)\n",
    "fig.add_trace(\n",
    "    go.Scatter(\n",
    "        x = labels_ge[:upper_range], \n",
    "        y = pca_ge_sum[:upper_range], \n",
    "        mode='lines', \n",
    "        line_color = '#555555', \n",
    "        name = \"Variation explained by all PC\", \n",
    "        opacity = 0.5))\n",
    "\n",
    "# Layout\n",
    "fig.update_layout(\n",
    "    autosize=False,\n",
    "    width=800,\n",
    "    height=400,\n",
    "    margin={'l': 20, 'r': 20, 't':  20, 'b': 20},\n",
    "    template=\"simple_white\",\n",
    "    legend_x = 0.5,\n",
    "    legend_y = 0.05,\n",
    "    xaxis_title = \"Principal component number\",\n",
    "    yaxis_title = \"Variation explained (%)\", \n",
    "    xaxis_dtick = 50,\n",
    "    yaxis_range = [0,100])\n",
    "    \n",
    "#HTML export\n",
    "fig.write_html(file=\"PCA_scree_ge.html\",include_plotlyjs=\"directory\",full_html=True)"
   ]
  },
  {
   "cell_type": "code",
   "execution_count": 15,
   "metadata": {},
   "outputs": [],
   "source": [
    "# Merge PC and MoA sum data for all datapoints\n",
    "pca_ge_moa = pd.merge(pd.DataFrame(pca_ge_data, columns = labels_ge), train_targets['moa_sum'], how = 'inner', left_index = True, right_index = True)\n",
    "\n",
    "# Scatterplot matrix for top 5 PC\n",
    "fig = px.scatter_matrix(\n",
    "    pca_ge_moa, \n",
    "    dimensions = [\"PC1\", \"PC2\", \"PC3\", \"PC4\", \"PC5\"],\n",
    "    color = \"moa_sum\",\n",
    "    opacity = 0.2, \n",
    "    template = \"simple_white\")\n",
    "\n",
    "\n",
    "fig.update_traces(marker_size = 3)\n",
    "\n",
    "# Layout\n",
    "fig.update_layout(\n",
    "    autosize = False,\n",
    "    width = 800,\n",
    "    height = 800,\n",
    "    margin = {'l': 20, 'r': 20, 't':  20, 'b': 20})\n",
    "\n",
    "# HTML export\n",
    "fig.write_html(file=\"Scatterplot_PCA_GE.html\",include_plotlyjs=\"directory\",full_html=True)"
   ]
  },
  {
   "source": [
    "## PCA - cell viability"
   ],
   "cell_type": "markdown",
   "metadata": {}
  },
  {
   "cell_type": "code",
   "execution_count": 8,
   "metadata": {},
   "outputs": [],
   "source": [
    "# Calculate PC\n",
    "pca_cv = PCA()\n",
    "pca_cv.fit(train_cv)\n",
    "pca_cv_data = pca_cv.transform(train_cv)\n",
    "\n",
    "# Determine the percentage of variance explained by each PC\n",
    "pca_cv_var = np.round(pca_cv.explained_variance_ratio_*100, decimals = 1)"
   ]
  },
  {
   "cell_type": "code",
   "execution_count": 9,
   "metadata": {},
   "outputs": [],
   "source": [
    "# Plot supporting variables\n",
    "labels_cv = ['PC' + str(x) for x in range (1, len(pca_cv_var) +1)]\n",
    "pca_cv_cumul = pca_cv_var.cumsum()\n",
    "pca_cv_sum = [sum(pca_cv_var)]* len(pca_cv_var)\n",
    "upper_range = 100\n",
    "\n",
    "# Create figure\n",
    "fig = go.Figure()\n",
    "\n",
    "# Scree plot (bar trace)\n",
    "fig.add_trace(\n",
    "    go.Bar(\n",
    "        x = labels_cv[:upper_range], \n",
    "        y = pca_cv_var[:upper_range], \n",
    "        name = \"Variation explained by each PC\"))\n",
    "\n",
    "# Cumulative plot (Line trace)\n",
    "fig.add_trace(\n",
    "    go.Scatter(\n",
    "        x = labels_cv[:upper_range], \n",
    "        y = pca_cv_cumul[:upper_range], \n",
    "        mode='lines', \n",
    "        name = \"Variation explained by sum of all preceeding PC\"))\n",
    "\n",
    "# Maximum plot (Line trace of maximum explained variation)\n",
    "fig.add_trace(\n",
    "    go.Scatter(\n",
    "        x = labels_cv[:upper_range], \n",
    "        y = pca_cv_sum[:upper_range], \n",
    "        mode='lines', \n",
    "        line_color = '#555555', \n",
    "        name = \"Variation explained by all PC\", \n",
    "        opacity = 0.5))\n",
    "\n",
    "# Layout\n",
    "fig.update_layout(\n",
    "    autosize=False,\n",
    "    width=800,\n",
    "    height=400,\n",
    "    margin={'l': 20, 'r': 20, 't':  20, 'b': 20},\n",
    "    template=\"simple_white\",\n",
    "    legend_x = 0.5,\n",
    "    legend_y = 0.05,\n",
    "    xaxis_title = \"Principal component number\",\n",
    "    yaxis_title = \"Variation explained (%)\", \n",
    "    xaxis_dtick = 20,\n",
    "    yaxis_range = [0,100])\n",
    "    \n",
    "#HTML export\n",
    "fig.write_html(file=\"PCA_scree_cv.html\",include_plotlyjs=\"directory\",full_html=True)"
   ]
  },
  {
   "cell_type": "code",
   "execution_count": 10,
   "metadata": {},
   "outputs": [],
   "source": [
    "# Merge PC and MoA sum data for all datapoints\n",
    "pca_cv_moa = pd.merge(pd.DataFrame(pca_cv_data, columns = labels_cv), train_targets['moa_sum'], how = 'inner', left_index = True, right_index = True)\n",
    "\n",
    "# Scatterplot matrix for top 5 PC\n",
    "fig = px.scatter_matrix(\n",
    "    pca_cv_moa, \n",
    "    dimensions = [\"PC1\", \"PC2\", \"PC3\", \"PC4\", \"PC5\"],\n",
    "    color = \"moa_sum\",\n",
    "    opacity = 0.3, \n",
    "    template = \"simple_white\")\n",
    "\n",
    "\n",
    "fig.update_traces(marker_size = 4)\n",
    "\n",
    "# Layout\n",
    "fig.update_layout(\n",
    "    autosize = False,\n",
    "    width = 800,\n",
    "    height = 800,\n",
    "    margin = {'l': 20, 'r': 20, 't':  20, 'b': 20})\n",
    "\n",
    "# HTML export\n",
    "fig.write_html(file=\"Scatterplot_PCA_CV.html\",include_plotlyjs=\"directory\",full_html=True)"
   ]
  },
  {
   "source": [
    "## Cross-correlation between gene expression features and cell viability PC features"
   ],
   "cell_type": "markdown",
   "metadata": {}
  },
  {
   "cell_type": "code",
   "execution_count": 11,
   "metadata": {},
   "outputs": [],
   "source": [
    "# Merge gene expression and cell viability PCA data for all datapoints\n",
    "ge_pca_cv = pd.merge(train_ge, pd.DataFrame(pca_cv_data, columns = labels_cv).iloc[:,:97], how = 'inner', left_index = True, right_index = True)\n",
    "\n",
    "# Obtianing a dataframe of the correlations between gene expression and cell viability PCA features\n",
    "corr = ge_pca_cv.corr()\n",
    "ge_pca_cv_corr = corr.iloc[772:870,0:772]\n",
    "ge_pca_cv_corr\n",
    "\n",
    "# List of correlations\n",
    "ge_pca_cv_correlations_list = []\n",
    "\n",
    "for i in range(len(ge_pca_cv_corr)):\n",
    "    for j in list(ge_pca_cv_corr.iloc[i,]): \n",
    "        ge_pca_cv_correlations_list.append(j)"
   ]
  },
  {
   "cell_type": "code",
   "execution_count": 12,
   "metadata": {},
   "outputs": [
    {
     "output_type": "stream",
     "name": "stdout",
     "text": [
      "Number of correlations (CC < 0.2): 74038\nPercent of correlations (CC < 0.2): 98.9\nNumber of correlations (0.2 < CC < 0.4): 470\nPercent of correlations (0.2 < CC < 0.4): 0.6\nNumber of correlations (0.4 < CC < 0.6): 208\nPercent of correlations (0.4 < CC < 0.6): 0.3\nNumber of correlations (0.6 < CC < 0.8): 149\nPercent of correlations (0.6 < CC < 0.8): 0.2\n"
     ]
    }
   ],
   "source": [
    "# Calculating the number of correlations above with a correlation coefficient (CC) above 0.2, 0.4, 0.6 and 0.8\n",
    "ge_pca_cv_correlations_2 = list(filter(lambda a: a < 0.2 and a > -0.2, ge_pca_cv_correlations_list)) \n",
    "ge_pca_cv_correlations_4 = list(filter(lambda a: a < 0.4 and a > -0.4, ge_pca_cv_correlations_list)) \n",
    "ge_pca_cv_correlations_6 = list(filter(lambda a: a < 0.6 and a > -0.6, ge_pca_cv_correlations_list)) \n",
    "ge_pca_cv_correlations_8 = list(filter(lambda a: a < 0.8 and a > -0.8, ge_pca_cv_correlations_list)) \n",
    "\n",
    "\n",
    "print(f\"Number of correlations (CC < 0.2): {len(ge_pca_cv_correlations_2)}\")\n",
    "print(f\"Percent of correlations (CC < 0.2): {round(len(ge_pca_cv_correlations_2)/len(ge_pca_cv_correlations_list)*100, 1)}\")\n",
    "\n",
    "print(f\"Number of correlations (0.2 < CC < 0.4): {len(ge_pca_cv_correlations_4) - len(ge_pca_cv_correlations_2)}\")\n",
    "print(f\"Percent of correlations (0.2 < CC < 0.4): {round((len(ge_pca_cv_correlations_4)- len(ge_pca_cv_correlations_2))/len(ge_pca_cv_correlations_list)*100, 1)}\")\n",
    "\n",
    "print(f\"Number of correlations (0.4 < CC < 0.6): {len(ge_pca_cv_correlations_6) - len(ge_pca_cv_correlations_4)}\")\n",
    "print(f\"Percent of correlations (0.4 < CC < 0.6): {round((len(ge_pca_cv_correlations_6)- len(ge_pca_cv_correlations_4))/len(ge_pca_cv_correlations_list)*100, 1)}\")\n",
    "\n",
    "print(f\"Number of correlations (0.6 < CC < 0.8): {len(ge_pca_cv_correlations_8) - len(ge_pca_cv_correlations_6)}\")\n",
    "print(f\"Percent of correlations (0.6 < CC < 0.8): {round((len(ge_pca_cv_correlations_8)- len(ge_pca_cv_correlations_6))/len(ge_pca_cv_correlations_list)*100, 1)}\")"
   ]
  },
  {
   "cell_type": "code",
   "execution_count": 13,
   "metadata": {},
   "outputs": [],
   "source": [
    "fig = go.Figure() \n",
    "\n",
    "# Histogram trace\n",
    "fig.add_trace(\n",
    "    go.Histogram(\n",
    "        x=ge_pca_cv_correlations_list, \n",
    "        nbinsx = 150))\n",
    "\n",
    "# Layout\n",
    "fig.update_layout(autosize=False,\n",
    "    width=400,\n",
    "    height=300,\n",
    "    showlegend=False,     \n",
    "    margin={'l': 20, 'r': 20, 't':  20, 'b': 20},\n",
    "    template=\"simple_white\",\n",
    "    xaxis_title = \"Correlation coefficient\",\n",
    "    yaxis_title = \"Count\",\n",
    "    xaxis_range = [-1,1])\n",
    "    \n",
    "#HTML export\n",
    "fig.write_html(file=\"ge_pca_cv_correlations.html\",include_plotlyjs=\"directory\",full_html=True)"
   ]
  },
  {
   "cell_type": "code",
   "execution_count": null,
   "metadata": {},
   "outputs": [],
   "source": []
  }
 ]
}